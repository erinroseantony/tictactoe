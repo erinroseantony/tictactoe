{
 "cells": [
  {
   "cell_type": "code",
   "execution_count": null,
   "id": "021f4b32-2828-4c13-b784-25572ab4aac1",
   "metadata": {},
   "outputs": [
    {
     "name": "stdout",
     "output_type": "stream",
     "text": [
      "|1|2|3|\n",
      "|4|5|6|\n",
      "|7|8|9|\n",
      "Player 1's turn: Pick your spot or press q to quit\n"
     ]
    }
   ],
   "source": [
    "\n",
    "def draw_board(spots):\n",
    "  board = (f\"|{spots[1]}|{spots[2]}|{spots[3]}|\\n\"\n",
    "             f\"|{spots[4]}|{spots[5]}|{spots[6]}|\\n\"\n",
    "             f\"|{spots[7]}|{spots[8]}|{spots[9]}|\")\n",
    "  print(board)\n",
    "\n",
    "def check_turn(turn):\n",
    "  if turn % 2 == 0: return 'O'\n",
    "  else: return 'X'\n",
    "\n",
    "def check_for_win(dict):\n",
    "  if   (spots[1] == spots[2] == spots[3]) \\\n",
    "    or (spots[4] == spots[5] == spots[6]) \\\n",
    "    or (spots[7] == spots[8] == spots[9]):\n",
    "    return True\n",
    "  elif   (spots[1] == spots[4] == spots[7]) \\\n",
    "    or (spots[2] == spots[5] == spots[8]) \\\n",
    "    or (spots[3] == spots[6] == spots[9]):\n",
    "    return True\n",
    "  elif (spots[1] == spots[5] == spots[9]) \\\n",
    "    or (spots[3] == spots[5] == spots[7]):\n",
    "    return True\n",
    "    \n",
    "  else: return False\n",
    "\n",
    "spots = {1 : '1', 2 : '2', 3: '3', 4 : '4', 5 : '5', \n",
    "         6 : '6', 7 : '7',  8 : '8', 9 : '9'}\n",
    "playing, complete = True, False\n",
    "turn = 0\n",
    "prev_turn = -1\n",
    "while playing:\n",
    "    os.system('cls' if os.name == 'nt' else 'clear')\n",
    "    draw_board(spots)\n",
    "    if prev_turn == turn:\n",
    "      print(\"Invalid spot selected, please pick another.\")\n",
    "    prev_turn = turn\n",
    "    print(\"Player \" + str((turn % 2) +1 ) + \"'s turn: Pick your spot or press q to quit\")\n",
    "    \n",
    "    \n",
    "    choice = input() \n",
    "    if choice == 'q':\n",
    "        playing = False\n",
    "    elif str.isdigit(choice) and int(choice) in spots:\n",
    "      if not spots[int(choice)] in {\"X\", \"O\"}:\n",
    "        turn += 1\n",
    "        spots[int(choice)] = check_turn(turn)\n",
    "      \n",
    "    \n",
    "    if check_for_win(spots): playing, complete = False, True\n",
    "    if turn > 8: playing = False\n",
    "    \n",
    "os.system('cls' if os.name == 'nt' else 'clear')\n",
    "draw_board(spots)\n",
    "\n",
    "if complete:\n",
    "  if check_turn(turn) == 'X': print(\"Player 1 Wins!\")\n",
    "  else: print(\"Player 2 Wins!\")\n",
    "else: \n",
    "  \n",
    "  print(\"No Winner\")\n",
    "  \n",
    "print(\"Thanks for playing!\")"
   ]
  },
  {
   "cell_type": "code",
   "execution_count": null,
   "id": "1fe93da8-4854-4704-9d51-6467394e77f7",
   "metadata": {},
   "outputs": [],
   "source": []
  }
 ],
 "metadata": {
  "kernelspec": {
   "display_name": "Python 3 (ipykernel)",
   "language": "python",
   "name": "python3"
  },
  "language_info": {
   "codemirror_mode": {
    "name": "ipython",
    "version": 3
   },
   "file_extension": ".py",
   "mimetype": "text/x-python",
   "name": "python",
   "nbconvert_exporter": "python",
   "pygments_lexer": "ipython3",
   "version": "3.11.7"
  }
 },
 "nbformat": 4,
 "nbformat_minor": 5
}
